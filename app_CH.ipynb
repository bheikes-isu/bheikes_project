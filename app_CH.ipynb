{
 "cells": [
  {
   "cell_type": "code",
   "execution_count": 1,
   "metadata": {},
   "outputs": [],
   "source": [
    "import openmeteo_requests as omr\n",
    "import pandas as pd \n",
    "import requests_cache\n",
    "from retry_requests import retry\n",
    "from geopy.geocoders import Nominatim"
   ]
  },
  {
   "cell_type": "code",
   "execution_count": 12,
   "metadata": {},
   "outputs": [],
   "source": [
    "\n",
    "def getcoordinates(userlocation):\n",
    "    \"\"\"add docstring\"\"\"\n",
    "    geolocator=Nominatim(user_agent=\"Dress for the Weather\")\n",
    "    location=geolocator.geocode(userlocation)\n",
    "    coordinates=[location.latitude, location.longitude]\n",
    "    #print(coordinates) # don't use print inside the function, print the return\n",
    "    return coordinates\n",
    " "
   ]
  },
  {
   "cell_type": "code",
   "execution_count": 15,
   "metadata": {},
   "outputs": [
    {
     "name": "stdout",
     "output_type": "stream",
     "text": [
      "Seattle, WA: Latitude: 47.6038321, Longitude: -122.330062\n"
     ]
    }
   ],
   "source": [
    "# test getcoordinates function\n",
    "location = \"Seattle, WA\"\n",
    "lat, lon = getcoordinates(location)\n",
    "print(f\"{location}: Latitude: {lat}, Longitude: {lon}\")"
   ]
  },
  {
   "cell_type": "code",
   "execution_count": null,
   "metadata": {},
   "outputs": [],
   "source": [
    "\n",
    "def getweather(lat, lon): # get weather data for given lat, lon\n",
    "    cache_session = requests_cache.CachedSession('.cache', expire_after = 3600)\n",
    "    retry_session = retry(cache_session, retries = 5, backoff_factor = 0.2)\n",
    "    openmeteo = omr.Client(session = retry_session)\n",
    "\n",
    "    url = \"https://api.open-meteo.com/v1/forecast\"\n",
    "    params = {\n",
    "        \"latitude\": lat,\n",
    "        \"longitude\": lon,\n",
    "        \"hourly\": \"temperature_2m\", \n",
    "        \"forecast_days\": 1,\n",
    "        \"temperature_unit\": \"fahrenheit\",\n",
    "        \"wind_speed_unit\": \"mph\",\n",
    "        \"precipitation_unit\": \"inch\",\n",
    "        \"current\": [\"temperature_2m\"],\n",
    "    }\n",
    "    responses = openmeteo.weather_api(url, params=params)\n",
    "\n",
    "    # Process first location. Add a for-loop for multiple locations or weather models\n",
    "    response = responses[0]\n",
    "    print(f\"Coordinates: {response.Latitude()}°N {response.Longitude()}°E\")\n",
    "    print(f\"Elevation: {response.Elevation()} m asl\")\n",
    "    print(f\"Timezone difference to GMT+0: {response.UtcOffsetSeconds()}s\")\n",
    "    #get rid of print statements\n",
    "    # You could also return elevation and timezone difference if needed\n",
    "\n",
    "    # Process hourly data. The order of variables needs to be the same as requested.\n",
    "    current = response.Current()\n",
    "    current_temperature_2m = current.Variables(0).Value()\n",
    "\n",
    "    #hourly_data = {\"date\": pd.Timestamp.today}\n",
    "\n",
    "    #hourly_data[\"temperature_2m\"] = hourly\n",
    "\n",
    "    #hourly_dataframe = pd.DataFrame(data = hourly_data)\n",
    "\n",
    "    # Why not use response.Hourly().DataFrame() directly?\n",
    "    return round(current_temperature_2m, 1)\n",
    "    #print(\"\\nHourly data\\n\", current_temperature_2m)\n"
   ]
  },
  {
   "cell_type": "code",
   "execution_count": 16,
   "metadata": {},
   "outputs": [
    {
     "name": "stdout",
     "output_type": "stream",
     "text": [
      "Coordinates: 47.59556198120117°N -122.32443237304688°E\n",
      "Elevation: 40.0 m asl\n",
      "Timezone difference to GMT+0: 0s\n",
      "Current Temperature in Seattle, WA: 56.3°F\n"
     ]
    }
   ],
   "source": [
    "# test getweather\n",
    "current_temp = getweather(lat, lon)\n",
    "print(f\"Current Temperature in {location}: {current_temp}°F\")"
   ]
  },
  {
   "cell_type": "code",
   "execution_count": null,
   "metadata": {},
   "outputs": [],
   "source": [
    "def weather(temperature):\n",
    "    if temperature > 80:\n",
    "        print(\"Shorts and a t-shirt\")\n",
    "    elif 60 <= temperature <= 70:\n",
    "        print(\"Shorts and a t-shirt or a light jacket\")\n",
    "    elif 50 <= temperature < 60:\n",
    "        print(\"pants and a longsleeve\")\n",
    "    elif 40 <= temperature < 50:\n",
    "        print(\"pants and a longsleeve with a light jacket\")"
   ]
  },
  {
   "cell_type": "code",
   "execution_count": null,
   "metadata": {},
   "outputs": [],
   "source": [
    "# test weather using current_temp\n",
    "???"
   ]
  }
 ],
 "metadata": {
  "kernelspec": {
   "display_name": "Python 3",
   "language": "python",
   "name": "python3"
  },
  "language_info": {
   "codemirror_mode": {
    "name": "ipython",
    "version": 3
   },
   "file_extension": ".py",
   "mimetype": "text/x-python",
   "name": "python",
   "nbconvert_exporter": "python",
   "pygments_lexer": "ipython3",
   "version": "3.13.8"
  }
 },
 "nbformat": 4,
 "nbformat_minor": 2
}
